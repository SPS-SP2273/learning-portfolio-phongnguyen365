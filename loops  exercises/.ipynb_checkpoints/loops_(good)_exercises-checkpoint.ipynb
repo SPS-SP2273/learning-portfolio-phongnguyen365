{
 "cells": [
  {
   "attachments": {},
   "cell_type": "markdown",
   "id": "123456",
   "metadata": {},
   "source": [
    "<div style=\"text-align:left;font-size:2em\"><span style=\"font-weight:bolder;font-size:1.25em\">SP2273 | Learning Portfolio</span><br><br><span style=\"font-weight:bold;color:darkred\">Loops (Good) Exercises</span></div>"
   ]
  },
  {
   "cell_type": "code",
   "execution_count": 1,
   "id": "8390f1c6-0475-43f8-9a19-4060d5628496",
   "metadata": {},
   "outputs": [],
   "source": [
    "import numpy as mp"
   ]
  },
  {
   "cell_type": "markdown",
   "id": "cbc2909c-cb5d-46f8-b330-d48fd02807b0",
   "metadata": {},
   "source": [
    "**Exercise 1**"
   ]
  },
  {
   "cell_type": "code",
   "execution_count": 5,
   "id": "338c5ca9-ff59-4bc1-bc00-013267af1df3",
   "metadata": {},
   "outputs": [
    {
     "name": "stdout",
     "output_type": "stream",
     "text": [
      "1\n",
      "9\n",
      "25\n",
      "49\n",
      "81\n"
     ]
    }
   ],
   "source": [
    "for number in range(10):\n",
    "    if number % 2 == 0:\n",
    "        continue\n",
    "    print(number**2)"
   ]
  },
  {
   "cell_type": "markdown",
   "id": "9bf69620-d79f-4d45-9369-e1a03c66c9b6",
   "metadata": {},
   "source": [
    "**Exercise 2**"
   ]
  },
  {
   "cell_type": "code",
   "execution_count": 6,
   "id": "ed514a03-56dd-4f79-9aee-0bc9724536e5",
   "metadata": {},
   "outputs": [
    {
     "data": {
      "text/plain": [
       "[1, 9, 25, 49, 81]"
      ]
     },
     "execution_count": 6,
     "metadata": {},
     "output_type": "execute_result"
    }
   ],
   "source": [
    "[number**2 for number in range(10) if number % 2 != 0]"
   ]
  },
  {
   "cell_type": "markdown",
   "id": "b41e5eb1-0e64-4ff4-be14-725e70d640ca",
   "metadata": {},
   "source": [
    "**Exercise 3**"
   ]
  },
  {
   "cell_type": "code",
   "execution_count": 32,
   "id": "28071316-5e72-4a50-9940-d559099fd48f",
   "metadata": {},
   "outputs": [
    {
     "name": "stderr",
     "output_type": "stream",
     "text": [
      "UsageError: Line magic function `%%timeit` not found.\n"
     ]
    }
   ],
   "source": [
    "#Exercise 1\n",
    "%%timeit\n",
    "for number in range(10):\n",
    "    if number % 2 == 0:\n",
    "        continue\n",
    "    print(number**2)"
   ]
  },
  {
   "cell_type": "code",
   "execution_count": 16,
   "id": "699adb4b-5282-41b3-b3c9-853b69d38d35",
   "metadata": {},
   "outputs": [
    {
     "name": "stdout",
     "output_type": "stream",
     "text": [
      "2 µs ± 95.4 ns per loop (mean ± std. dev. of 7 runs, 100,000 loops each)\n"
     ]
    }
   ],
   "source": [
    "#Exercise 2\n",
    "%timeit [number**2 for number in range(10) if number % 2 != 0]"
   ]
  },
  {
   "cell_type": "markdown",
   "id": "d84098f3-d979-48b7-8564-0327c468f98c",
   "metadata": {},
   "source": [
    "**Exercise 4**"
   ]
  },
  {
   "cell_type": "code",
   "execution_count": 48,
   "id": "10e09c4b-c5e2-46d6-987b-06e8cd2affe0",
   "metadata": {},
   "outputs": [
    {
     "name": "stdout",
     "output_type": "stream",
     "text": [
      "The time that the sample will take to reduce to half its original amount:  14  year(s)\n"
     ]
    }
   ],
   "source": [
    "quantity = 100\n",
    "year = 0\n",
    "while quantity > 50:\n",
    "    quantity = quantity * 0.95\n",
    "    year += 1\n",
    "print('The time that the sample will take to reduce to half its original amount: ',year,' year(s)')"
   ]
  },
  {
   "cell_type": "code",
   "execution_count": 36,
   "id": "8a55a8a3-8711-48ed-9133-cd079bb240e4",
   "metadata": {},
   "outputs": [
    {
     "name": "stdout",
     "output_type": "stream",
     "text": [
      "The time that the sample will take to reduce to half its original amount:  14  year(s)\n"
     ]
    }
   ],
   "source": [
    "quantity = 100\n",
    "year = 0\n",
    "while True:\n",
    "    quantity = quantity * 0.95\n",
    "    year += 1\n",
    "    if quantity < 50: break\n",
    "print('The time that the sample will take to reduce to half its original amount: ',year,' year(s)')"
   ]
  },
  {
   "cell_type": "markdown",
   "id": "662a0670-9fdc-4ca1-90ed-92a75be6a13b",
   "metadata": {},
   "source": [
    "**Exercise 5**"
   ]
  },
  {
   "cell_type": "code",
   "execution_count": 47,
   "id": "798ced3e-7270-46b2-ab5d-4b0e36690072",
   "metadata": {},
   "outputs": [
    {
     "name": "stdout",
     "output_type": "stream",
     "text": [
      "2016: +3.41 ppm\n"
     ]
    }
   ],
   "source": [
    "co2_data = [\n",
    "    (2000, 369.55), (2001, 371.14), (2002, 373.28), \n",
    "    (2003, 375.80), (2004, 377.52), (2005, 379.80), \n",
    "    (2006, 381.90), (2007, 383.79), (2008, 385.60), \n",
    "    (2009, 387.43), (2010, 389.90), (2011, 391.65), \n",
    "    (2012, 393.85), (2013, 396.52), (2014, 398.65),\n",
    "    (2015, 400.83), (2016, 404.24), (2017, 406.55), \n",
    "    (2018, 408.52), (2019, 411.44), (2020, 414.24)\n",
    "]\n",
    "co2_level0 = co2_data[0][1]\n",
    "for year, co2_level in co2_data:\n",
    "    if co2_level - co2_level0 >= 3:\n",
    "        print(f\"{year}: +{co2_level - co2_level0:.2f} ppm\")\n",
    "    co2_level0 = co2_level"
   ]
  }
 ],
 "metadata": {
  "kernelspec": {
   "display_name": "Python 3 (ipykernel)",
   "language": "python",
   "name": "python3"
  },
  "language_info": {
   "codemirror_mode": {
    "name": "ipython",
    "version": 3
   },
   "file_extension": ".py",
   "mimetype": "text/x-python",
   "name": "python",
   "nbconvert_exporter": "python",
   "pygments_lexer": "ipython3",
   "version": "3.11.5"
  },
  "toc": {
   "base_numbering": 1,
   "nav_menu": {},
   "number_sections": true,
   "sideBar": true,
   "skip_h1_title": false,
   "title_cell": "Table of Contents",
   "title_sidebar": "Contents",
   "toc_cell": false,
   "toc_position": {},
   "toc_section_display": true,
   "toc_window_display": false
  },
  "vscode": {
   "interpreter": {
    "hash": "31f2aee4e71d21fbe5cf8b01ff0e069b9275f58929596ceb00d14d90e3e16cd6"
   }
  }
 },
 "nbformat": 4,
 "nbformat_minor": 5
}
