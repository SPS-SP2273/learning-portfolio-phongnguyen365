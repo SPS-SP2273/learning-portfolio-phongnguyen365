{
 "cells": [
  {
   "attachments": {},
   "cell_type": "markdown",
   "id": "123456",
   "metadata": {},
   "source": [
    "<div style=\"text-align:left;font-size:2em\"><span style=\"font-weight:bolder;font-size:1.25em\">SP2273 | Learning Portfolio</span><br><br><span style=\"font-weight:bold;color:darkred\">Loops (Need) Exercises</span></div>"
   ]
  },
  {
   "cell_type": "code",
   "execution_count": 11,
   "id": "90737fb4-b4c0-4f74-bd63-5257e02d929b",
   "metadata": {},
   "outputs": [],
   "source": [
    "import numpy as np"
   ]
  },
  {
   "cell_type": "markdown",
   "id": "6530a208-df0a-4098-ae50-7a4f5c3307fd",
   "metadata": {},
   "source": [
    "**Exercise 1**"
   ]
  },
  {
   "cell_type": "code",
   "execution_count": 25,
   "id": "89f08200-4897-41f3-a598-08bb451a32a8",
   "metadata": {},
   "outputs": [
    {
     "name": "stdout",
     "output_type": "stream",
     "text": [
      "0 oC = 32.0 oF\n",
      "5 oC = 41.0 oF\n",
      "10 oC = 50.0 oF\n",
      "15 oC = 59.0 oF\n",
      "20 oC = 68.0 oF\n",
      "25 oC = 77.0 oF\n",
      "30 oC = 86.0 oF\n",
      "35 oC = 95.0 oF\n",
      "40 oC = 104.0 oF\n",
      "45 oC = 113.0 oF\n",
      "50 oC = 122.0 oF\n"
     ]
    }
   ],
   "source": [
    "temperatures_celsius = [0, 5, 10, 15, 20, 25, 30, 35, 40, 45, 50]\n",
    "np_temperatures_celsius = np.array(temperatures_celsius)\n",
    "np_temperatures_fahrenheit = np_temperatures_celsius * 1.8 + 32 \n",
    "for t in range(len(np_temperatures_celsius)):\n",
    "    temperature_celsius = np_temperatures_celsius[t]\n",
    "    temperature_fahrenheit = np_temperatures_fahrenheit[t]\n",
    "    print(f\"{temperature_celsius} oC = {temperature_fahrenheit} oF\")"
   ]
  },
  {
   "cell_type": "markdown",
   "id": "26268cc2-39c5-4f39-8509-014bf2863e3a",
   "metadata": {},
   "source": [
    "**Exercise 2**"
   ]
  },
  {
   "cell_type": "code",
   "execution_count": 27,
   "id": "22c3c0f4-fe47-4d54-97a5-a895c74610b6",
   "metadata": {},
   "outputs": [
    {
     "name": "stdout",
     "output_type": "stream",
     "text": [
      "1:\t1\t2\t3\t4\t5\t\n",
      "\n",
      "2:\t2\t4\t6\t8\t10\t\n",
      "\n",
      "3:\t3\t6\t9\t12\t15\t\n",
      "\n",
      "4:\t4\t8\t12\t16\t20\t\n",
      "\n",
      "5:\t5\t10\t15\t20\t25\t\n",
      "\n"
     ]
    }
   ],
   "source": [
    "numbers = [1, 2, 3, 4, 5]\n",
    "np_numbers = np.array(numbers)\n",
    "for a in range(5):\n",
    "    print(f\"{a + 1}:\", end='\\t')\n",
    "    for b in range(len(np_numbers)):\n",
    "        num = np_numbers[b] * (a + 1)\n",
    "        print(f\"{num}\", end='\\t')\n",
    "    print('\\n')"
   ]
  }
 ],
 "metadata": {
  "kernelspec": {
   "display_name": "Python 3 (ipykernel)",
   "language": "python",
   "name": "python3"
  },
  "language_info": {
   "codemirror_mode": {
    "name": "ipython",
    "version": 3
   },
   "file_extension": ".py",
   "mimetype": "text/x-python",
   "name": "python",
   "nbconvert_exporter": "python",
   "pygments_lexer": "ipython3",
   "version": "3.11.5"
  },
  "toc": {
   "base_numbering": 1,
   "nav_menu": {},
   "number_sections": true,
   "sideBar": true,
   "skip_h1_title": false,
   "title_cell": "Table of Contents",
   "title_sidebar": "Contents",
   "toc_cell": false,
   "toc_position": {},
   "toc_section_display": true,
   "toc_window_display": false
  },
  "vscode": {
   "interpreter": {
    "hash": "31f2aee4e71d21fbe5cf8b01ff0e069b9275f58929596ceb00d14d90e3e16cd6"
   }
  }
 },
 "nbformat": 4,
 "nbformat_minor": 5
}
