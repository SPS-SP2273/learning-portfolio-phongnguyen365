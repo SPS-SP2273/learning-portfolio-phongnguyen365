{
 "cells": [
  {
   "attachments": {},
   "cell_type": "markdown",
   "id": "123456",
   "metadata": {},
   "source": [
    "<div style=\"text-align:left;font-size:2em\"><span style=\"font-weight:bolder;font-size:1.25em\">SP2273 | Learning Portfolio</span><br><br><span style=\"font-weight:bold;color:darkred\">Functions (Good) Exercises</span></div>"
   ]
  },
  {
   "cell_type": "markdown",
   "id": "4dd3d58c-7417-4eb7-a496-ec5f115cb562",
   "metadata": {},
   "source": [
    "**Exercise 1**"
   ]
  },
  {
   "cell_type": "code",
   "execution_count": 12,
   "id": "548a32d3-6b2d-4da4-a735-283b9f467738",
   "metadata": {},
   "outputs": [
    {
     "name": "stdin",
     "output_type": "stream",
     "text": [
      "Temperature in C:  78\n",
      "Scale:  k\n"
     ]
    },
    {
     "data": {
      "text/plain": [
       "'172.4 F'"
      ]
     },
     "execution_count": 12,
     "metadata": {},
     "output_type": "execute_result"
    }
   ],
   "source": [
    "def convert_celsius(temperature_celsius, target_scale = \"Fahrenheit\"):\n",
    "    if target_scale == \"Kelvin\":\n",
    "        converted_temperature = temperature_celsius + 273.15\n",
    "        return f'{converted_temperature} K'\n",
    "    else:\n",
    "        converted_temperature = temperature_celsius * 1.8 + 32\n",
    "        return f'{converted_temperature} F'\n",
    "        \n",
    "temperature_celsius = input(\"Temperature in C: \")\n",
    "target_scale = input(\"Scale: \")\n",
    "temperature_celsius = float(temperature_celsius)\n",
    "convert_celsius(temperature_celsius, target_scale)\n",
    "    "
   ]
  },
  {
   "cell_type": "markdown",
   "id": "52965f63-ca3f-467e-b90d-cdd11a3129f0",
   "metadata": {},
   "source": [
    "**Exercise 2**"
   ]
  },
  {
   "cell_type": "code",
   "execution_count": 16,
   "id": "40383ac2-8f5a-4031-9d1e-55827c6909be",
   "metadata": {},
   "outputs": [
    {
     "name": "stdin",
     "output_type": "stream",
     "text": [
      "Temperature in F:  78\n",
      "Scale:  Kelvin\n"
     ]
    },
    {
     "data": {
      "text/plain": [
       "'298.706 K'"
      ]
     },
     "execution_count": 16,
     "metadata": {},
     "output_type": "execute_result"
    }
   ],
   "source": [
    "def convert_fahrenheit(temperature_fahrenheit, target_scale = \"Celsius\"):\n",
    "    if target_scale == \"Kelvin\":\n",
    "        converted_temperature = (temperature_fahrenheit - 32) / 1.8 + 273.15\n",
    "        return f'{converted_temperature:.3f} K'\n",
    "    else:\n",
    "        converted_temperature = (temperature_fahrenheit - 32) / 1.8\n",
    "        return f'{converted_temperature:.3f} C'\n",
    "        \n",
    "temperature_fahrenheit = input(\"Temperature in F: \")\n",
    "target_scale = input(\"Scale: \")\n",
    "temperature_fahrenheit = float(temperature_fahrenheit)\n",
    "convert_fahrenheit(temperature_fahrenheit, target_scale)\n",
    "    "
   ]
  },
  {
   "cell_type": "markdown",
   "id": "8de2a509-cc5e-4c01-b09b-4ccd6ca21696",
   "metadata": {},
   "source": [
    "**Exercise 3**"
   ]
  },
  {
   "cell_type": "code",
   "execution_count": 25,
   "id": "4d1cb5bd-5804-46f4-97df-add84c8d5a24",
   "metadata": {},
   "outputs": [
    {
     "name": "stdin",
     "output_type": "stream",
     "text": [
      "Temperature:  78\n",
      "Scale of input:  Celsius\n",
      "Scale of output:  Fahrenheit\n"
     ]
    },
    {
     "data": {
      "text/plain": [
       "'172.4 F'"
      ]
     },
     "execution_count": 25,
     "metadata": {},
     "output_type": "execute_result"
    }
   ],
   "source": [
    "def convert_kelvin(temperature_kelvin, target_scale = \"Fahrenheit\"):\n",
    "    if target_scale == \"Celsius\":\n",
    "        converted_temperature = temperature_kelvin - 273.15\n",
    "        return f'{converted_temperature} C'\n",
    "    else:\n",
    "        converted_temperature = (temperature_kelvin - 273.15) * 1.8 + 32\n",
    "        return f'{converted_temperature} F'\n",
    "        \n",
    "def convert_temperature(temperature, source_scale, target_scale):\n",
    "    if source_scale == \"Celsius\":\n",
    "        return convert_celsius(temperature, target_scale)\n",
    "    elif source_scale == \"Fahrenheit\":\n",
    "        return convert_fahrenheit(temperature_fahrenheit, target_scale)\n",
    "    elif source_scale == \"Kelvin\":\n",
    "        return convert_kelvin(temperature_kelvin, target_scale)\n",
    "    return \"Input error :)\"\n",
    "\n",
    "temperature = input(\"Temperature: \")\n",
    "source_scale = input(\"Scale of input: \")\n",
    "target_scale = input(\"Scale of output: \")\n",
    "temperature = float(temperature)\n",
    "convert_temperature(temperature, source_scale, target_scale)    \n",
    "    "
   ]
  }
 ],
 "metadata": {
  "kernelspec": {
   "display_name": "Python 3 (ipykernel)",
   "language": "python",
   "name": "python3"
  },
  "language_info": {
   "codemirror_mode": {
    "name": "ipython",
    "version": 3
   },
   "file_extension": ".py",
   "mimetype": "text/x-python",
   "name": "python",
   "nbconvert_exporter": "python",
   "pygments_lexer": "ipython3",
   "version": "3.11.5"
  },
  "toc": {
   "base_numbering": 1,
   "nav_menu": {},
   "number_sections": true,
   "sideBar": true,
   "skip_h1_title": false,
   "title_cell": "Table of Contents",
   "title_sidebar": "Contents",
   "toc_cell": false,
   "toc_position": {},
   "toc_section_display": true,
   "toc_window_display": false
  },
  "vscode": {
   "interpreter": {
    "hash": "31f2aee4e71d21fbe5cf8b01ff0e069b9275f58929596ceb00d14d90e3e16cd6"
   }
  }
 },
 "nbformat": 4,
 "nbformat_minor": 5
}
