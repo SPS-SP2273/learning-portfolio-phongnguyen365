{
 "cells": [
  {
   "attachments": {},
   "cell_type": "markdown",
   "id": "123456",
   "metadata": {},
   "source": [
    "<div style=\"text-align:left;font-size:2em\"><span style=\"font-weight:bolder;font-size:1.25em\">SP2273 | Learning Portfolio</span><br><br><span style=\"font-weight:bold;color:darkred\">Storing Data (Good)</span></div>"
   ]
  },
  {
   "attachments": {},
   "cell_type": "markdown",
   "id": "5ccc2879",
   "metadata": {},
   "source": [
    "# What to expect in this chapter"
   ]
  },
  {
   "attachments": {},
   "cell_type": "markdown",
   "id": "18515295",
   "metadata": {},
   "source": [
    "# 1 Subsetting: Indexing and Slicing"
   ]
  },
  {
   "cell_type": "code",
   "execution_count": 1,
   "id": "cd7a9281-350f-4d32-b16b-1cd6d011c4a0",
   "metadata": {},
   "outputs": [],
   "source": [
    "import numpy as np"
   ]
  },
  {
   "cell_type": "code",
   "execution_count": null,
   "id": "58aa2708-09cd-41af-b249-9ac8f2fa8cd3",
   "metadata": {},
   "outputs": [],
   "source": []
  },
  {
   "attachments": {},
   "cell_type": "markdown",
   "id": "4aedab9a",
   "metadata": {},
   "source": [
    "## 1.1 Lists & Arrays in 1D | Subsetting & Indexing"
   ]
  },
  {
   "cell_type": "markdown",
   "id": "e6852392-3fe8-49bb-8fed-124a56a297ca",
   "metadata": {},
   "source": [
    "### Python List"
   ]
  },
  {
   "cell_type": "markdown",
   "id": "70327415-260a-4867-b16c-9295c0e66999",
   "metadata": {},
   "source": [
    "### Numpy Arrays"
   ]
  },
  {
   "cell_type": "markdown",
   "id": "326cc712-5a98-402d-8f0b-45ef4165972f",
   "metadata": {},
   "source": [
    "### Dictionaries"
   ]
  },
  {
   "attachments": {},
   "cell_type": "markdown",
   "id": "f99f7225",
   "metadata": {},
   "source": [
    "## 1.2 Arrays only | Subsetting by masking"
   ]
  },
  {
   "attachments": {},
   "cell_type": "markdown",
   "id": "0b8aecb2",
   "metadata": {},
   "source": [
    "## 1.3 Lists & Arrays in 2D | Indexing & Slicing"
   ]
  },
  {
   "attachments": {},
   "cell_type": "markdown",
   "id": "f62da137",
   "metadata": {},
   "source": [
    "## 1.4 Growing lists"
   ]
  },
  {
   "attachments": {},
   "cell_type": "markdown",
   "id": "b2028c66",
   "metadata": {},
   "source": [
    "# Some loose ends"
   ]
  },
  {
   "attachments": {},
   "cell_type": "markdown",
   "id": "2d46bf2e",
   "metadata": {},
   "source": [
    "## 1.5 Tuples"
   ]
  },
  {
   "attachments": {},
   "cell_type": "markdown",
   "id": "ea2e433d",
   "metadata": {},
   "source": [
    "## 1.6 Be VERY careful when copying"
   ]
  },
  {
   "attachments": {},
   "cell_type": "markdown",
   "id": "c4e3bff4",
   "metadata": {},
   "source": [
    "# Exercises & Self-Assessment"
   ]
  },
  {
   "cell_type": "code",
   "execution_count": null,
   "id": "33c3ccbb",
   "metadata": {},
   "outputs": [],
   "source": [
    "\n",
    "\n",
    "\n",
    "# Your solution here\n",
    "\n",
    "\n"
   ]
  },
  {
   "attachments": {},
   "cell_type": "markdown",
   "id": "d1fb4a3e",
   "metadata": {},
   "source": [
    "## Footnotes"
   ]
  }
 ],
 "metadata": {
  "kernelspec": {
   "display_name": "Python 3 (ipykernel)",
   "language": "python",
   "name": "python3"
  },
  "language_info": {
   "codemirror_mode": {
    "name": "ipython",
    "version": 3
   },
   "file_extension": ".py",
   "mimetype": "text/x-python",
   "name": "python",
   "nbconvert_exporter": "python",
   "pygments_lexer": "ipython3",
   "version": "3.11.5"
  },
  "toc": {
   "base_numbering": 1,
   "nav_menu": {},
   "number_sections": true,
   "sideBar": true,
   "skip_h1_title": false,
   "title_cell": "Table of Contents",
   "title_sidebar": "Contents",
   "toc_cell": false,
   "toc_position": {},
   "toc_section_display": true,
   "toc_window_display": false
  },
  "vscode": {
   "interpreter": {
    "hash": "31f2aee4e71d21fbe5cf8b01ff0e069b9275f58929596ceb00d14d90e3e16cd6"
   }
  }
 },
 "nbformat": 4,
 "nbformat_minor": 5
}
