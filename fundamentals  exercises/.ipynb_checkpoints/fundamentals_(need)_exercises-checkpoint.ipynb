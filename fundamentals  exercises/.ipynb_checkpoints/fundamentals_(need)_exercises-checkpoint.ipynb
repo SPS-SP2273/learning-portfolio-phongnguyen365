{
 "cells": [
  {
   "cell_type": "markdown",
   "id": "123456",
   "metadata": {},
   "source": [
    "<div style=\"text-align:left;font-size:2em\"><span style=\"font-weight:bolder;font-size:1.25em\">SP2273 | Learning Portfolio</span><br><br><span style=\"font-weight:bold;color:darkred\">Fundamentals (Need) Exercises</span></div>"
   ]
  },
  {
   "cell_type": "markdown",
   "id": "308fd24f",
   "metadata": {},
   "source": [
    "# Exercise 1:"
   ]
  },
  {
   "cell_type": "markdown",
   "id": "54f6835f",
   "metadata": {},
   "source": [
    "1. Functions: something that can do a specific task\n",
    "2. Arguments: information which is processed by the function  \n",
    "3. Comments: additional information which is ignored by Python when we run code\n",
    "4. Indentations: spaces to separate code blocks\n",
    "5. Packages: containers that contains many functions to perform specific tasks\n",
    "6. Brackets: (): use in calls for function, for mathematics \n",
    "[]: use for list of data\n",
    "{}: use for dictionary\n",
    "8. Dot: indicate ownership\n",
    "9. *interpreter*: computer program that converts our code language into machine code\n",
    "10. *Python is case-sensitive*: The entered function must be absolutely accurate to work\n",
    "11. *= and ==*: = assigns a value, == asks a question about comparision\n",
    "12. *Variables*: containers for storing data values\n",
    "13. *Matching pairs*: insert the information inside '' or \"\" to turn it to string type instead of variable"
   ]
  },
  {
   "cell_type": "markdown",
   "id": "381af314",
   "metadata": {},
   "source": [
    "# Exercise 2:"
   ]
  },
  {
   "cell_type": "code",
   "execution_count": 8,
   "id": "f99b601b",
   "metadata": {},
   "outputs": [
    {
     "name": "stdout",
     "output_type": "stream",
     "text": [
      "3 4 5.0\n"
     ]
    }
   ],
   "source": [
    "# x, y = 3, 4\n",
    "#        z = sqrt(x*2 + y**2)\n",
    "#    Print(x, y, z)\n",
    "import numpy as np\n",
    "x, y = 3, 4\n",
    "z = np.sqrt(x**2 + y**2)\n",
    "print(x, y, z)"
   ]
  },
  {
   "cell_type": "markdown",
   "id": "997b8097",
   "metadata": {},
   "source": [
    "# Exercise 3:"
   ]
  },
  {
   "cell_type": "markdown",
   "id": "3c948c82",
   "metadata": {},
   "source": [
    "| # | **Term** | **Description** |\n",
    "|:---:|---|:---:|\n",
    "| 1 | Function | things that can do a specific task |\n",
    "| 2 | Arguments | informations that are processed by the function  |\n",
    "| 3 | Comments | add additional informations, Python will ignore those |\n",
    "| 4 | Indentations | spaces to separate code block |\n",
    "| 5 | Packages | provide many functions |\n",
    "| 6 | . | indicate ownership of something (package, variables, etc.) to a function |\n",
    "| 7 | : | designate a block of code |\n",
    "| 8 | [] | store list of data, e.g. [1,2,3] |\n",
    "| 9 | [[[]]] | store list of list of list of data |\n",
    "| 10 | {} | store data in 'dictionary' |"
   ]
  },
  {
   "cell_type": "markdown",
   "id": "7610c07a",
   "metadata": {},
   "source": [
    "# Exercise 4"
   ]
  },
  {
   "cell_type": "code",
   "execution_count": 12,
   "id": "4838166c",
   "metadata": {},
   "outputs": [
    {
     "data": {
      "text/plain": [
       "2.5"
      ]
     },
     "execution_count": 12,
     "metadata": {},
     "output_type": "execute_result"
    }
   ],
   "source": [
    "5/2           # What do I do?\n",
    "# Divide"
   ]
  },
  {
   "cell_type": "code",
   "execution_count": 14,
   "id": "e97561b9",
   "metadata": {},
   "outputs": [
    {
     "data": {
      "text/plain": [
       "2"
      ]
     },
     "execution_count": 14,
     "metadata": {},
     "output_type": "execute_result"
    }
   ],
   "source": [
    "5//2          # What do I do?\n",
    "# Divide and get integer (floor division)"
   ]
  },
  {
   "cell_type": "code",
   "execution_count": 20,
   "id": "0bb29540",
   "metadata": {},
   "outputs": [
    {
     "data": {
      "text/plain": [
       "1"
      ]
     },
     "execution_count": 20,
     "metadata": {},
     "output_type": "execute_result"
    }
   ],
   "source": [
    "5%2           # What do I do?\n",
    "# Divide and get remainder "
   ]
  }
 ],
 "metadata": {
  "kernelspec": {
   "display_name": "Python 3 (ipykernel)",
   "language": "python",
   "name": "python3"
  },
  "language_info": {
   "codemirror_mode": {
    "name": "ipython",
    "version": 3
   },
   "file_extension": ".py",
   "mimetype": "text/x-python",
   "name": "python",
   "nbconvert_exporter": "python",
   "pygments_lexer": "ipython3",
   "version": "3.11.5"
  },
  "toc": {
   "base_numbering": 1,
   "nav_menu": {},
   "number_sections": true,
   "sideBar": true,
   "skip_h1_title": false,
   "title_cell": "Table of Contents",
   "title_sidebar": "Contents",
   "toc_cell": false,
   "toc_position": {},
   "toc_section_display": true,
   "toc_window_display": false
  },
  "varInspector": {
   "cols": {
    "lenName": 16,
    "lenType": 16,
    "lenVar": 40
   },
   "kernels_config": {
    "python": {
     "delete_cmd_postfix": "",
     "delete_cmd_prefix": "del ",
     "library": "var_list.py",
     "varRefreshCmd": "print(var_dic_list())"
    },
    "r": {
     "delete_cmd_postfix": ") ",
     "delete_cmd_prefix": "rm(",
     "library": "var_list.r",
     "varRefreshCmd": "cat(var_dic_list()) "
    }
   },
   "types_to_exclude": [
    "module",
    "function",
    "builtin_function_or_method",
    "instance",
    "_Feature"
   ],
   "window_display": false
  },
  "vscode": {
   "interpreter": {
    "hash": "31f2aee4e71d21fbe5cf8b01ff0e069b9275f58929596ceb00d14d90e3e16cd6"
   }
  }
 },
 "nbformat": 4,
 "nbformat_minor": 5
}
