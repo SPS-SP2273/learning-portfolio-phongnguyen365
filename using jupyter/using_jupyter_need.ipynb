{
 "cells": [
  {
   "cell_type": "code",
   "execution_count": 1,
   "id": "43cebaf7-4cc9-404a-82dc-623d04629830",
   "metadata": {},
   "outputs": [
    {
     "ename": "SyntaxError",
     "evalue": "unexpected character after line continuation character (4083638060.py, line 2)",
     "output_type": "error",
     "traceback": [
      "\u001b[1;36m  Cell \u001b[1;32mIn[1], line 2\u001b[1;36m\u001b[0m\n\u001b[1;33m    \\begin{table}[]\u001b[0m\n\u001b[1;37m     ^\u001b[0m\n\u001b[1;31mSyntaxError\u001b[0m\u001b[1;31m:\u001b[0m unexpected character after line continuation character\n"
     ]
    }
   ],
   "source": [
    "print('hello w***d')\n",
    "\\begin{table}[]\n",
    "\\begin{tabular}{rrrll}\n",
    "\\hline\n",
    "\\multicolumn{1}{l}{\\textbf{a}} & \\multicolumn{1}{l}{b} & \\multicolumn{1}{l}{c} &  &  \\\\ \\hline\n",
    "1                              & 2                     & 3                     &  &  \\\\\n",
    "4                              & 5                     & 6                     &  &  \\\\\n",
    "7                              & 8                     & 9                     &  &  \\\\ \\hline\n",
    "\\end{tabular}\n",
    "\\end{table}"
   ]
  },
  {
   "cell_type": "markdown",
   "id": "8178c2aa-a601-426b-801e-bfeb19a34e51",
   "metadata": {},
   "source": [
    "Hello, im currently a year 1 chemistry student from nus. most of the time, i enjoy reading books and playing games with friends, both moba games and boardgames.\n",
    "```python\n",
    "print('hehe bois')\n",
    "```\n",
    "`print(hehe bois')`"
   ]
  },
  {
   "cell_type": "markdown",
   "id": "9e0f9bf7-5ab0-4fdd-8d95-ba3cffb23534",
   "metadata": {},
   "source": [
    "[Canvas](https://canvas.nus.edu.sg)\n",
    "\n",
    "![](https://www.instructure.com/sites/default/files/image/2021-12/Canvas_logo_single_mark.png)\n",
    "\n"
   ]
  }
 ],
 "metadata": {
  "kernelspec": {
   "display_name": "Python 3 (ipykernel)",
   "language": "python",
   "name": "python3"
  },
  "language_info": {
   "codemirror_mode": {
    "name": "ipython",
    "version": 3
   },
   "file_extension": ".py",
   "mimetype": "text/x-python",
   "name": "python",
   "nbconvert_exporter": "python",
   "pygments_lexer": "ipython3",
   "version": "3.11.5"
  }
 },
 "nbformat": 4,
 "nbformat_minor": 5
}
