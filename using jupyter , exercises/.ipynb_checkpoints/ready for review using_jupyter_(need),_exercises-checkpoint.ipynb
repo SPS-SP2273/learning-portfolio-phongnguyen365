{
 "cells": [
  {
   "cell_type": "markdown",
   "id": "123456",
   "metadata": {},
   "source": [
    "<div style=\"text-align:left;font-size:2em\"><span style=\"font-weight:bolder;font-size:1.25em\">SP2273 | Learning Portfolio</span><br><br><span style=\"font-weight:bold;color:darkred\">Using Jupyter (Need), Exercises</span></div>"
   ]
  },
  {
   "cell_type": "markdown",
   "id": "ec945a92",
   "metadata": {},
   "source": [
    "## Quadratic Equations"
   ]
  },
  {
   "cell_type": "markdown",
   "id": "44d4ab47",
   "metadata": {},
   "source": [
    "### Introduction"
   ]
  },
  {
   "cell_type": "markdown",
   "id": "38633094-f096-46cb-a561-2b25cfb9f26a",
   "metadata": {},
   "source": [
    "\n",
    "![](https://upload.wikimedia.org/wikipedia/commons/thumb/f/f8/Polynomialdeg2.svg/800px-Polynomialdeg2.svg.png)\n",
    "\n",
    "(*Image form the* [<u>*Wikipedia page on Quadratic equations*](https://en.wikipedia.org/wiki/Quadratic_equation))\n",
    "\n",
    "The general form of a quadratic equation is:\n",
    "$$\n",
    "ax^{2} + bx + c = 0\n",
    "$$\n",
    "\n"
   ]
  },
  {
   "cell_type": "markdown",
   "id": "3a417342",
   "metadata": {},
   "source": [
    "### Solutions"
   ]
  },
  {
   "cell_type": "markdown",
   "id": "be767e64-94fd-40f6-88f9-e93509f9a3f8",
   "metadata": {},
   "source": [
    "\n",
    "Provided $a \\ne 0$, we can use an elementary algebraic method called [<u>completeing the square](https://en.wikipedia.org/wiki/Completing_the_square) to show that a quadratic equation has the following solution:\n",
    "$$\n",
    "x = \\dfrac{-b \\pm \\sqrt{b^2-4ac}}{2a}\n",
    "$$\n"
   ]
  },
  {
   "cell_type": "markdown",
   "id": "0d15cd4f",
   "metadata": {},
   "source": [
    "### Discriminant"
   ]
  },
  {
   "cell_type": "markdown",
   "id": "2b846d04-25d3-4301-9583-9d3721ac2750",
   "metadata": {},
   "source": [
    "\n",
    "The quantity $\\Delta=b^2-4ac$ is called the discriminant of the equation and decides the nature of its solutions. The table below shows the various possibilities.\n",
    "| Discriminant | Roots |\n",
    "|:---:|---|\n",
    "| $\\Delta = b^2-4ac = 0$ | A single solution of $-b/(2a)$ |\n",
    "| $\\Delta = b^2-4ac \\gt 0$ | Two distinct solutions |\n",
    "| $\\Delta = b^2-4ac \\lt 0$ | No real solutions; both are complex. |x. |x. |x. |"
   ]
  },
  {
   "cell_type": "markdown",
   "id": "84c16a83-120f-4aaf-9829-0ddd4e142214",
   "metadata": {},
   "source": [
    "1. A Git repository is a central storage locaton in which users can track and manage the changes of files.\n",
    "2. Git keep tranks of changes in the files in our repository.\n",
    "3. A commit is an snapshot of the repository, or the files' changes status, at a specific time.\n",
    "4. A push is an activity that transfer the commits from the local repository to the remote repository.\n",
    "5. A pull is an activity that transfer the commits from the remote repository (e.g. jupyter notebook) to the local repository (e.g. computer).\n",
    "6. GitHub is the cloud-based hosting service for managing git repositories.\n",
    "GitHub Desktop is an application that enables GUI-based interaction with GitHub."
   ]
  },
  {
   "cell_type": "code",
   "execution_count": null,
   "id": "0877d096-5e93-4550-a082-beb18476a780",
   "metadata": {},
   "outputs": [],
   "source": []
  }
 ],
 "metadata": {
  "kernelspec": {
   "display_name": "Python 3 (ipykernel)",
   "language": "python",
   "name": "python3"
  },
  "language_info": {
   "codemirror_mode": {
    "name": "ipython",
    "version": 3
   },
   "file_extension": ".py",
   "mimetype": "text/x-python",
   "name": "python",
   "nbconvert_exporter": "python",
   "pygments_lexer": "ipython3",
   "version": "3.11.5"
  },
  "toc": {
   "base_numbering": 1,
   "nav_menu": {},
   "number_sections": true,
   "sideBar": true,
   "skip_h1_title": false,
   "title_cell": "Table of Contents",
   "title_sidebar": "Contents",
   "toc_cell": false,
   "toc_position": {},
   "toc_section_display": true,
   "toc_window_display": false
  },
  "varInspector": {
   "cols": {
    "lenName": 16,
    "lenType": 16,
    "lenVar": 40
   },
   "kernels_config": {
    "python": {
     "delete_cmd_postfix": "",
     "delete_cmd_prefix": "del ",
     "library": "var_list.py",
     "varRefreshCmd": "print(var_dic_list())"
    },
    "r": {
     "delete_cmd_postfix": ") ",
     "delete_cmd_prefix": "rm(",
     "library": "var_list.r",
     "varRefreshCmd": "cat(var_dic_list()) "
    }
   },
   "types_to_exclude": [
    "module",
    "function",
    "builtin_function_or_method",
    "instance",
    "_Feature"
   ],
   "window_display": false
  },
  "vscode": {
   "interpreter": {
    "hash": "31f2aee4e71d21fbe5cf8b01ff0e069b9275f58929596ceb00d14d90e3e16cd6"
   }
  }
 },
 "nbformat": 4,
 "nbformat_minor": 5
}
